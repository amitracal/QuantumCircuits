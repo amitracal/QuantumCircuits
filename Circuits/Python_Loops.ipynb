{
 "cells": [
  {
   "cell_type": "code",
   "execution_count": 1,
   "metadata": {},
   "outputs": [
    {
     "name": "stdout",
     "output_type": "stream",
     "text": [
      "0\n",
      "1\n",
      "2\n",
      "3\n",
      "4\n",
      "5\n",
      "6\n",
      "7\n",
      "8\n",
      "9\n"
     ]
    }
   ],
   "source": [
    "# let's print all numbers between 0 and 9\n",
    "for i in range(10): print(i)\n",
    "# range(n) represents the list of all numbers from 0 to n-1\n",
    "# i is the variable to take the values in the range(n) iteratively: 0, 1, ..., 9 in our example"
   ]
  },
  {
   "cell_type": "code",
   "execution_count": 2,
   "metadata": {},
   "outputs": [
    {
     "name": "stdout",
     "output_type": "stream",
     "text": [
      "0\n",
      "1\n",
      "2\n",
      "3\n",
      "4\n",
      "5\n",
      "6\n",
      "7\n",
      "8\n",
      "9\n"
     ]
    }
   ],
   "source": [
    "# let's write the same code in two lines\n",
    "for i in range(10): # do not forget to use colon\n",
    "    print(i)\n",
    "    # the second line is indented\n",
    "    # this means that the command in the second line will be executed inside the for-loop\n",
    "    # any other code executed inside the for-loop must be intented in the same way\n",
    "    #my_code_inside_for-loop_2 will come here\n",
    "    #my_code_inside_for-loop_3 will come here\n",
    "    #my_code_inside_for-loop_4 will come here\n",
    "# now I am out of the scope of for-loop\n",
    "#my_code_outside_for-loop_1 will come here\n",
    "#my_code_outside_for-loop_2 will come here"
   ]
  },
  {
   "cell_type": "code",
   "execution_count": 3,
   "metadata": {},
   "outputs": [
    {
     "name": "stdout",
     "output_type": "stream",
     "text": [
      "55\n"
     ]
    }
   ],
   "source": [
    "# let's calculate the summation 1+2+...+10 by using a for-loop\n",
    "\n",
    "# we use variable total for the total summation\n",
    "total = 0 \n",
    "for i in range(11): # do not forget to use colon\n",
    "    total = total + i # total is increased by i in each iteration\n",
    "    # alternatively, the same assignment can shortly be written as total += i similarly to languages C, C++, Java, etc.\n",
    "# now I am out of the scope of for-loop\n",
    "# let's print the latest value of total\n",
    "print(total)"
   ]
  },
  {
   "cell_type": "code",
   "execution_count": 4,
   "metadata": {},
   "outputs": [
    {
     "name": "stdout",
     "output_type": "stream",
     "text": [
      "486\n"
     ]
    }
   ],
   "source": [
    "# let's calculate the summation 10+12+14+...+44\n",
    "# we create a list having all numbers in the summation\n",
    "# for this purpose, this time we will use three parameters in range\n",
    "total = 0\n",
    "for j in range(10,45,2): # the range is defined between 10 and 44, and the value of j will be increased by 2 after each iteration\n",
    "    total += j # let's use the shortened version of total = total + j\n",
    "print(total)"
   ]
  },
  {
   "cell_type": "code",
   "execution_count": 5,
   "metadata": {},
   "outputs": [
    {
     "name": "stdout",
     "output_type": "stream",
     "text": [
      "511\n"
     ]
    }
   ],
   "source": [
    "# let's calculate the summation 1+2+4+8+16+...+256\n",
    "# remark that 256 = 2*2*...*2 (8 times)\n",
    "total = 0\n",
    "current_number = 1 # this value will be multiplied by 2 after each iteration\n",
    "for k in range(9):\n",
    "    total = total + current_number # current_number is 1 at the beginning, and its value will be doubled after each iteration\n",
    "    current_number = 2 * current_number # let's double the value of the current_number for the next iteration\n",
    "    # short version of the same assignment: current_number *= 2 as in the languages C, C++, Java, etc.\n",
    "# now I am out of the scope of for-loop\n",
    "# let's print the latest value of total\n",
    "print(total)"
   ]
  },
  {
   "cell_type": "code",
   "execution_count": 6,
   "metadata": {},
   "outputs": [
    {
     "name": "stdout",
     "output_type": "stream",
     "text": [
      "1\n",
      "10\n",
      "100\n",
      "1000\n",
      "10000\n"
     ]
    }
   ],
   "source": [
    "# instead of a range, we can directly use a list\n",
    "for i in [1,10,100,1000,10000]:\n",
    "    print(i)"
   ]
  },
  {
   "cell_type": "code",
   "execution_count": 7,
   "metadata": {},
   "outputs": [
    {
     "name": "stdout",
     "output_type": "stream",
     "text": [
      "1\n",
      "10\n",
      "100\n",
      "1000\n",
      "10000\n"
     ]
    }
   ],
   "source": [
    "# instead of [...], we can also use (...)\n",
    "# but this time it is a tuple, not a list (keep in your mind that the values in a tuple cannot be changed)\n",
    "for i in (1,10,100,1000,10000):\n",
    "    print(i)"
   ]
  },
  {
   "cell_type": "code",
   "execution_count": 8,
   "metadata": {},
   "outputs": [
    {
     "name": "stdout",
     "output_type": "stream",
     "text": [
      "14\n",
      "21\n",
      "28\n",
      "35\n",
      "42\n",
      "49\n",
      "56\n",
      "63\n",
      "70\n",
      "77\n",
      "84\n",
      "91\n"
     ]
    }
   ],
   "source": [
    "# let's create a range between 10 and 91 that contains the multiples of 7\n",
    "for j in range(14,92,7): \n",
    "    # 14 is the first multiple of 7 greater than or equal to 10\n",
    "    # 91 should be in the range, and so we write 92\n",
    "    print(j)"
   ]
  },
  {
   "cell_type": "code",
   "execution_count": 9,
   "metadata": {},
   "outputs": [
    {
     "name": "stdout",
     "output_type": "stream",
     "text": [
      "11\n",
      "12\n",
      "13\n",
      "14\n",
      "15\n",
      "16\n",
      "17\n",
      "18\n",
      "19\n",
      "20\n",
      "21\n",
      "22\n"
     ]
    }
   ],
   "source": [
    "# let's create a range between 11 and 22\n",
    "for i in range(11,23):\n",
    "    print(i)"
   ]
  },
  {
   "cell_type": "code",
   "execution_count": 10,
   "metadata": {},
   "outputs": [
    {
     "name": "stdout",
     "output_type": "stream",
     "text": [
      "5\n",
      "6\n",
      "7\n",
      "8\n",
      "9\n"
     ]
    }
   ],
   "source": [
    "# we can also use variables in range\n",
    "n = 5\n",
    "for j in range(n,2*n): \n",
    "    print(j) # we will print all numbers in {n,n+1,n+2,...,2n-1}"
   ]
  },
  {
   "cell_type": "code",
   "execution_count": 11,
   "metadata": {},
   "outputs": [
    {
     "name": "stdout",
     "output_type": "stream",
     "text": [
      "Hello Asja :-)\n",
      "Hello Balvis :-)\n",
      "Hello Fyodor :-)\n"
     ]
    }
   ],
   "source": [
    "# we can use a list of strings\n",
    "for name in (\"Asja\",\"Balvis\",\"Fyodor\"):\n",
    "    print(\"Hello\",name,\":-)\")"
   ]
  },
  {
   "cell_type": "code",
   "execution_count": 12,
   "metadata": {},
   "outputs": [
    {
     "name": "stdout",
     "output_type": "stream",
     "text": [
      "[0, 1, 2, 3, 4, 5, 6, 7, 8, 9]\n",
      "[55, 66, 77, 88, 99, 110, 121, 132, 143, 154, 165, 176, 187, 198]\n"
     ]
    }
   ],
   "source": [
    "# any range can be converted to a list\n",
    "L1 = list(range(10))\n",
    "print(L1)\n",
    "\n",
    "L2 = list(range(55,200,11))\n",
    "print(L2)"
   ]
  },
  {
   "cell_type": "code",
   "execution_count": 24,
   "metadata": {},
   "outputs": [
    {
     "name": "stdout",
     "output_type": "stream",
     "text": [
      "459\n"
     ]
    }
   ],
   "source": [
    "total = 0\n",
    "n = 0\n",
    "for j in range(0,51,3): # the range is defined between 10 and 44, and the value of j will be increased by 2 after each iteration\n",
    "    total += 3 # let's use the shortened version of total = total + j\n",
    "    n = total + n\n",
    "#    print(j)\n",
    "#print(total)\n",
    "print (n)\n",
    "    "
   ]
  },
  {
   "cell_type": "code",
   "execution_count": 45,
   "metadata": {},
   "outputs": [
    {
     "name": "stdout",
     "output_type": "stream",
     "text": [
      "1\n",
      "4\n",
      "13\n",
      "40\n",
      "121\n",
      "364\n",
      "1093\n",
      "3280\n",
      "9841\n"
     ]
    }
   ],
   "source": [
    "total = 0\n",
    "sum = 0\n",
    "n = 0\n",
    "for i in range(0,9):\n",
    "  n += 3**i\n",
    "#  print(i)\n",
    "  print(n)\n",
    "  \n",
    "    "
   ]
  }
 ],
 "metadata": {
  "kernelspec": {
   "display_name": "Python 3",
   "language": "python",
   "name": "python3"
  },
  "language_info": {
   "codemirror_mode": {
    "name": "ipython",
    "version": 3
   },
   "file_extension": ".py",
   "mimetype": "text/x-python",
   "name": "python",
   "nbconvert_exporter": "python",
   "pygments_lexer": "ipython3",
   "version": "3.7.6"
  }
 },
 "nbformat": 4,
 "nbformat_minor": 4
}

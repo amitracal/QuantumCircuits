{
 "cells": [
  {
   "cell_type": "code",
   "execution_count": 1,
   "metadata": {},
   "outputs": [
    {
     "name": "stdout",
     "output_type": "stream",
     "text": [
      "matrix A before normalization:\n",
      "[37, 3, 27]\n",
      "[55, 65, 91]\n",
      "[88, 21, 78]\n",
      "\n",
      "matrix A after normalization:\n",
      "[0.20555555555555555, 0.033707865168539325, 0.1377551020408163]\n",
      "[0.3055555555555556, 0.7303370786516854, 0.4642857142857143]\n",
      "[0.4888888888888889, 0.23595505617977527, 0.3979591836734694]\n",
      "\n",
      "the column summations must be 1\n",
      "[1.0, 1.0, 1.0]\n"
     ]
    }
   ],
   "source": [
    "# let's start with a zero matrix\n",
    "A = [\n",
    "    [0,0,0],\n",
    "    [0,0,0],\n",
    "    [0,0,0]\n",
    "]\n",
    "\n",
    "# we will randomly pick the entries and then make normalization for each column\n",
    "# it will be easier to iteratively construct the columns\n",
    "# you may notice that each column is a probabilistic state\n",
    "from random import randrange\n",
    "\n",
    "normalization_factor = [0,0,0] # the normalization factor of each column may be different\n",
    "\n",
    "for j in range(3): # each column is iteratively constructed\n",
    "    normalization_factor[j] = 0\n",
    "    while normalization_factor[j]==0: # the normalization factor cannot be zero\n",
    "        for i in range(3):\n",
    "            A[i][j] = randrange(101) # pick a random value between 0 and 100\n",
    "            normalization_factor[j] += A[i][j]\n",
    "\n",
    "# let's print matrix A before the normalization\n",
    "# the entries are between 0 and 100\n",
    "print(\"matrix A before normalization:\")\n",
    "for i in range(3):\n",
    "    print(A[i])\n",
    "\n",
    "\n",
    "# let's normalize each column\n",
    "for j in range(3):\n",
    "    for i in range(3):\n",
    "        A[i][j] /= normalization_factor[j]  # shorter form of A[i][j] = A[i][j] / normalization_factor[j]\n",
    "        \n",
    "# let's print matrix A after the normalization\n",
    "print() # print an empty line\n",
    "print(\"matrix A after normalization:\")\n",
    "for i in range(3):\n",
    "    print(A[i]) \n",
    "\n",
    "print()\n",
    "print(\"the column summations must be 1\")\n",
    "\n",
    "sum = [0,0,0]\n",
    "for j in range(3):\n",
    "    for i in range(3):\n",
    "        sum[j] += A[i][j]\n",
    "\n",
    "print(sum) "
   ]
  },
  {
   "cell_type": "code",
   "execution_count": 2,
   "metadata": {},
   "outputs": [
    {
     "name": "stdout",
     "output_type": "stream",
     "text": [
      "[0.22, 0.47, 0.31]\n"
     ]
    }
   ],
   "source": [
    "# operator B\n",
    "B = [\n",
    "    [0.4,0.6,0],\n",
    "    [0.2,0.1,0.7],\n",
    "    [0.4,0.3,0.3]\n",
    "]\n",
    "\n",
    "# the current state\n",
    "v = [0.1,0.3,0.6]\n",
    "\n",
    "newstate = []\n",
    "\n",
    "index = 0\n",
    "\n",
    "for row in B:\n",
    "    newstate.append(0)\n",
    "    for i in range(len(row)):\n",
    "        newstate[index] = newstate[index] + row[i] * v[i]\n",
    "    index = index + 1\n",
    "    \n",
    "print(newstate)"
   ]
  },
  {
   "cell_type": "code",
   "execution_count": 7,
   "metadata": {},
   "outputs": [],
   "source": [
    "def linear_evolve(operator,state):\n",
    "    newstate=[]\n",
    "    for i in range(len(operator)): # for each row\n",
    "        # we calculate the corresponding entry of the new state\n",
    "        newstate.append(0) # we set this value to 0 for the initialization\n",
    "        for j in range(len(state)): # for each element in state\n",
    "            newstate[i] = newstate[i] + operator[i][j] * state[j] # summation of pairwise multiplications\n",
    "    return newstate # return the new probabilistic state\n",
    "# test the function\n",
    "\n",
    "\n",
    "\n"
   ]
  },
  {
   "cell_type": "code",
   "execution_count": 9,
   "metadata": {},
   "outputs": [
    {
     "name": "stdout",
     "output_type": "stream",
     "text": [
      "[0.22, 0.47, 0.31]\n",
      "[0.33378399999999997, 0.33309199999999994, 0.333124]\n",
      "[0.3333328297599999, 0.3333337260799999, 0.33333344415999994]\n",
      "[0.33333333333309395, 0.3333333333336499, 0.3333333333332556]\n",
      "[0.33333333333333315, 0.33333333333333315, 0.33333333333333315]\n"
     ]
    }
   ],
   "source": [
    "# operator for the test\n",
    "B = [\n",
    "    [0.4,0.6,0],\n",
    "    [0.2,0.1,0.7],\n",
    "    [0.4,0.3,0.3]\n",
    "]\n",
    "\n",
    "# state for test\n",
    "v = [0.1,0.3,0.6]\n",
    "\n",
    "newstate = linear_evolve(B,v)\n",
    "print(newstate)  \n",
    "for step in [5,10,20,40]:\n",
    "    new_state = [0.1,0.3,0.6] # initial state\n",
    "    for i in range(step):\n",
    "        new_state = linear_evolve(B,new_state)\n",
    "    print(new_state)   "
   ]
  }
 ],
 "metadata": {
  "kernelspec": {
   "display_name": "Python 3",
   "language": "python",
   "name": "python3"
  },
  "language_info": {
   "codemirror_mode": {
    "name": "ipython",
    "version": 3
   },
   "file_extension": ".py",
   "mimetype": "text/x-python",
   "name": "python",
   "nbconvert_exporter": "python",
   "pygments_lexer": "ipython3",
   "version": "3.7.6"
  }
 },
 "nbformat": 4,
 "nbformat_minor": 4
}

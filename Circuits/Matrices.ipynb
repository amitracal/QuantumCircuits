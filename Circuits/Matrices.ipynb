{
 "cells": [
  {
   "cell_type": "code",
   "execution_count": 1,
   "metadata": {},
   "outputs": [
    {
     "name": "stdout",
     "output_type": "stream",
     "text": [
      "[[8, 0, -1, 0, 2], [-2, -3, 1, 1, 4], [0, 0, 1, -7, 1], [1, 4, -2, 5, 9]]\n"
     ]
    }
   ],
   "source": [
    "# we may break lines when defining our list\n",
    "M = [ \n",
    "    [8 , 0 , -1 , 0 , 2], \n",
    "    [-2 , -3 , 1 , 1 , 4], \n",
    "    [0 , 0 , 1 , -7 , 1],\n",
    "    [1 , 4 , -2 , 5 , 9]\n",
    "] \n",
    "\n",
    "# let's print matrix M\n",
    "print(M)"
   ]
  },
  {
   "cell_type": "code",
   "execution_count": 2,
   "metadata": {},
   "outputs": [
    {
     "name": "stdout",
     "output_type": "stream",
     "text": [
      "[8, 0, -1, 0, 2]\n",
      "[-2, -3, 1, 1, 4]\n",
      "[0, 0, 1, -7, 1]\n",
      "[1, 4, -2, 5, 9]\n"
     ]
    }
   ],
   "source": [
    "# let's print M in matrix form, row by row\n",
    "\n",
    "for i in range(4): # there are 4 rows\n",
    "    print(M[i])"
   ]
  },
  {
   "cell_type": "code",
   "execution_count": 3,
   "metadata": {},
   "outputs": [
    {
     "name": "stdout",
     "output_type": "stream",
     "text": [
      "8\n",
      "-7\n",
      "9\n"
     ]
    }
   ],
   "source": [
    "M = [ \n",
    "    [8 , 0 , -1 , 0 , 2], \n",
    "    [-2 , -3 , 1 , 1 , 4], \n",
    "    [0 , 0 , 1 , -7 , 1],\n",
    "    [1 , 4 , -2 , 5 , 9]\n",
    "] \n",
    "\n",
    "# print the element of M in the 1st row and the 1st column.\n",
    "print(M[0][0])\n",
    "\n",
    "# print the element of M in the 3rd row and the 4th column.\n",
    "print(M[2][3])\n",
    "\n",
    "# print the element of M in the 4th row and the 5th column.\n",
    "print(M[3][4])"
   ]
  },
  {
   "cell_type": "code",
   "execution_count": 4,
   "metadata": {},
   "outputs": [
    {
     "name": "stdout",
     "output_type": "stream",
     "text": [
      "I am M:\n",
      "[8, 0, -1, 0, 2]\n",
      "[-2, -3, 1, 1, 4]\n",
      "[0, 0, 1, -7, 1]\n",
      "[1, 4, -2, 5, 9]\n",
      "\n",
      "I am N:\n",
      "[-16, 0, 2, 0, -4]\n",
      "[4, 6, -2, -2, -8]\n",
      "[0, 0, -2, 14, -2]\n",
      "[-2, -8, 4, -10, -18]\n"
     ]
    }
   ],
   "source": [
    "# we use double nested for-loops\n",
    "\n",
    "N =[] # the result matrix\n",
    "\n",
    "for i in range(4): # for each row\n",
    "    N.append([]) # create an empty sub-list for each row in the result matrix\n",
    "    for j in range(5): # in row (i+1), we do the following for each column\n",
    "        N[i].append(M[i][j]*-2) # we add new elements into the i-th sub-list\n",
    "        \n",
    "# print M and N, and see the results\n",
    "print(\"I am M:\")\n",
    "for i in range(4):\n",
    "    print(M[i])\n",
    "\n",
    "print()\n",
    "\n",
    "print(\"I am N:\")\n",
    "for i in range(4):\n",
    "    print(N[i])"
   ]
  },
  {
   "cell_type": "code",
   "execution_count": 5,
   "metadata": {},
   "outputs": [
    {
     "name": "stdout",
     "output_type": "stream",
     "text": [
      "M= [[8, 0, -1, 0, 2], [-2, -3, 1, 1, 4], [0, 0, 1, -7, 1], [1, 4, -2, 5, 9]]\n",
      "N= [[-16, 0, 2, 0, -4], [4, 6, -2, -2, -8], [0, 0, -2, 14, -2], [-2, -8, 4, -10, -18]]\n",
      "K= [[-8, 0, 1, 0, -2], [2, 3, -1, -1, -4], [0, 0, -1, 7, -1], [-1, -4, 2, -5, -9]]\n"
     ]
    }
   ],
   "source": [
    "# create an empty list for the result matrix\n",
    "K=[]\n",
    "\n",
    "for i in range(len(M)): # len(M) return the number of rows in M\n",
    "    K.append([]) # we create a new row for K\n",
    "    for j in range(len(M[0])): # len(M[0]) returns the number of columns in M\n",
    "        K[i].append(M[i][j]+N[i][j]) # we add new elements into the i-th sublist/rows\n",
    "\n",
    "# print each matrix in a single line\n",
    "print(\"M=\",M)\n",
    "print(\"N=\",N)\n",
    "print(\"K=\",K)"
   ]
  },
  {
   "cell_type": "code",
   "execution_count": 6,
   "metadata": {},
   "outputs": [
    {
     "name": "stdout",
     "output_type": "stream",
     "text": [
      "M is\n",
      "[-1, 0, 1]\n",
      "[-2, -3, 4]\n",
      "[1, 5, 6]\n",
      "\n",
      "v= [1, -3, 2]\n",
      "\n",
      "u= [1, 15, -2]\n"
     ]
    }
   ],
   "source": [
    "# matrix M\n",
    "M = [\n",
    "    [-1,0,1],\n",
    "    [-2,-3,4],\n",
    "    [1,5,6]\n",
    "]\n",
    "\n",
    "# vector v\n",
    "v = [1,-3,2]\n",
    "\n",
    "# the result vector u\n",
    "u = []\n",
    "\n",
    "# for each row, we do an inner product\n",
    "for i in range(3):\n",
    "    # inner product for one row is initiated\n",
    "    inner_result = 0 # this variable keeps the summation of the pairwise multiplications\n",
    "    for j in range(3): # the elements in the i-th row\n",
    "        inner_result = inner_result + M[i][j] * v[j]\n",
    "    # inner product for one row is completed\n",
    "    u.append(inner_result)\n",
    "\n",
    "print(\"M is\")\n",
    "for i in range(len(M)):\n",
    "    print(M[i])\n",
    "print()\n",
    "print(\"v=\",v)\n",
    "print()\n",
    "print(\"u=\",u)"
   ]
  }
 ],
 "metadata": {
  "kernelspec": {
   "display_name": "Python 3",
   "language": "python",
   "name": "python3"
  },
  "language_info": {
   "codemirror_mode": {
    "name": "ipython",
    "version": 3
   },
   "file_extension": ".py",
   "mimetype": "text/x-python",
   "name": "python",
   "nbconvert_exporter": "python",
   "pygments_lexer": "ipython3",
   "version": "3.7.6"
  }
 },
 "nbformat": 4,
 "nbformat_minor": 4
}

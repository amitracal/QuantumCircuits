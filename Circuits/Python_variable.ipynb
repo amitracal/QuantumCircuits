{
 "cells": [
  {
   "cell_type": "code",
   "execution_count": 1,
   "metadata": {},
   "outputs": [
    {
     "name": "stdout",
     "output_type": "stream",
     "text": [
      "2 4 6\n"
     ]
    }
   ],
   "source": [
    "# let's define three integer variables named a, b, and c\n",
    "a = 2\n",
    "b = 4\n",
    "c = a + b # summation of a and b\n",
    "\n",
    "# let's print their values together \n",
    "print(a,b,c)\n",
    "# a single space will automatically appear in between"
   ]
  },
  {
   "cell_type": "code",
   "execution_count": 2,
   "metadata": {},
   "outputs": [
    {
     "name": "stdout",
     "output_type": "stream",
     "text": [
      "6 4 2\n"
     ]
    }
   ],
   "source": [
    "# let's print their values in reverse order\n",
    "print(c,b,a)"
   ]
  },
  {
   "cell_type": "code",
   "execution_count": 3,
   "metadata": {},
   "outputs": [
    {
     "name": "stdout",
     "output_type": "stream",
     "text": [
      "12 48\n"
     ]
    }
   ],
   "source": [
    "# let's print their summation and multiplication\n",
    "print(a+b+c,a*b*c)"
   ]
  },
  {
   "cell_type": "code",
   "execution_count": 4,
   "metadata": {},
   "outputs": [
    {
     "name": "stdout",
     "output_type": "stream",
     "text": [
      "hello world\n",
      "hello quantum world\n"
     ]
    }
   ],
   "source": [
    "# let's define variables with string/text values\n",
    "\n",
    "hw = \"hello world\" # we can use double quotes\n",
    "hqw = 'hello quantum world' # we can use single quotes\n",
    "\n",
    "# let's print them\n",
    "print(hw)\n",
    "print(hqw)"
   ]
  },
  {
   "cell_type": "code",
   "execution_count": 5,
   "metadata": {},
   "outputs": [
    {
     "name": "stdout",
     "output_type": "stream",
     "text": [
      "hello world and hello quantum world\n"
     ]
    }
   ],
   "source": [
    "# let's print them together by inserting another string in between\n",
    "print(hw,\"and\",hqw)"
   ]
  },
  {
   "cell_type": "code",
   "execution_count": 6,
   "metadata": {},
   "outputs": [
    {
     "name": "stdout",
     "output_type": "stream",
     "text": [
      "Hello World but Quantum World\n"
     ]
    }
   ],
   "source": [
    "# let's concatenate a few strings\n",
    "d = \"Hello \" + 'World' + \" but \" + 'Quantum ' + \"World\" \n",
    "\n",
    "# let's print the result\n",
    "print(d)"
   ]
  },
  {
   "cell_type": "code",
   "execution_count": 7,
   "metadata": {},
   "outputs": [
    {
     "name": "stdout",
     "output_type": "stream",
     "text": [
      "a = 2 , b = 4 , a+b = 6\n"
     ]
    }
   ],
   "source": [
    "# let's print numeric and string values together\n",
    "print(\"a =\",a,\", b =\",b,\", a+b =\",a+b)"
   ]
  },
  {
   "cell_type": "code",
   "execution_count": 8,
   "metadata": {},
   "outputs": [
    {
     "name": "stdout",
     "output_type": "stream",
     "text": [
      "2 4 -2\n"
     ]
    }
   ],
   "source": [
    "# let's subtract two numbers\n",
    "d = a-b\n",
    "print(a,b,d)"
   ]
  },
  {
   "cell_type": "code",
   "execution_count": 9,
   "metadata": {},
   "outputs": [
    {
     "name": "stdout",
     "output_type": "stream",
     "text": [
      "5\n"
     ]
    }
   ],
   "source": [
    " # let's divide integers over integers\n",
    "# the result is always an integer (with possible integer remainder)\n",
    "d = 33 // 6\n",
    "print(d)"
   ]
  },
  {
   "cell_type": "code",
   "execution_count": 10,
   "metadata": {},
   "outputs": [
    {
     "name": "stdout",
     "output_type": "stream",
     "text": [
      "3\n"
     ]
    }
   ],
   "source": [
    " # reminder/mod operator\n",
    "r = 33 % 6 \n",
    "# 33 mod 6 = 3\n",
    "# or when 33 is divided by 6 over integers, the reminder is 3\n",
    "# 33 = 5 * 6 + 3\n",
    "\n",
    "# let's print the result\n",
    "print(r) "
   ]
  },
  {
   "cell_type": "code",
   "execution_count": 11,
   "metadata": {},
   "outputs": [
    {
     "name": "stdout",
     "output_type": "stream",
     "text": [
      "True False\n"
     ]
    }
   ],
   "source": [
    "# Booleen variables\n",
    "t = True\n",
    "f = False\n",
    "\n",
    "# let's print their values\n",
    "print(t,f)"
   ]
  },
  {
   "cell_type": "code",
   "execution_count": 12,
   "metadata": {},
   "outputs": [
    {
     "name": "stdout",
     "output_type": "stream",
     "text": [
      "False\n",
      "the negation of True is False\n",
      "True\n",
      "the negation of False is True\n"
     ]
    }
   ],
   "source": [
    "# print their negations\n",
    "print(not t) \n",
    "print(\"the negation of\",t,\"is\",not t)\n",
    "\n",
    "print(not f)\n",
    "print(\"the negation of\",f,\"is\",not f)"
   ]
  },
  {
   "cell_type": "code",
   "execution_count": 13,
   "metadata": {},
   "outputs": [
    {
     "name": "stdout",
     "output_type": "stream",
     "text": [
      "-3.4444 11.86389136\n"
     ]
    }
   ],
   "source": [
    "# define a float variable\n",
    "\n",
    "d = -3.4444\n",
    "\n",
    "# let's print its value and its square\n",
    "print(d, d * d)"
   ]
  },
  {
   "cell_type": "code",
   "execution_count": 14,
   "metadata": {},
   "outputs": [
    {
     "name": "stdout",
     "output_type": "stream",
     "text": [
      "134\n"
     ]
    }
   ],
   "source": [
    "e = (23*13) - (11 * 15)\n",
    "print(e)"
   ]
  },
  {
   "cell_type": "code",
   "execution_count": 15,
   "metadata": {},
   "outputs": [
    {
     "name": "stdout",
     "output_type": "stream",
     "text": [
      "2153\n"
     ]
    }
   ],
   "source": [
    "# we can use more than one variable\n",
    "\n",
    "# left is the variable for the left part of the expression\n",
    "# we start with the multiplication inside the parentheses\n",
    "left = 34*11\n",
    "# we continue with the substruction inside the parentheses\n",
    "#     we reuse the variable named left\n",
    "left = 123 - left\n",
    "# we reuse left again for the multiplication with -3\n",
    "left = -3 * left\n",
    "\n",
    "# right is the variable for the right part of the expression\n",
    "# we use the same idea here\n",
    "right = 23 * 15\n",
    "right = 5 + right\n",
    "right = 4 * right\n",
    "\n",
    "# at the end, we use left for the result\n",
    "left = left + right\n",
    "\n",
    "# let's print the result\n",
    "print(left)"
   ]
  },
  {
   "cell_type": "code",
   "execution_count": null,
   "metadata": {},
   "outputs": [],
   "source": []
  }
 ],
 "metadata": {
  "kernelspec": {
   "display_name": "Python 3",
   "language": "python",
   "name": "python3"
  },
  "language_info": {
   "codemirror_mode": {
    "name": "ipython",
    "version": 3
   },
   "file_extension": ".py",
   "mimetype": "text/x-python",
   "name": "python",
   "nbconvert_exporter": "python",
   "pygments_lexer": "ipython3",
   "version": "3.7.6"
  }
 },
 "nbformat": 4,
 "nbformat_minor": 4
}

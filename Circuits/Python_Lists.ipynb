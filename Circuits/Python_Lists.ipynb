{
 "cells": [
  {
   "cell_type": "code",
   "execution_count": 12,
   "metadata": {},
   "outputs": [
    {
     "name": "stdout",
     "output_type": "stream",
     "text": [
      "6\n"
     ]
    }
   ],
   "source": [
    "# let's randomly pick a number between 0 and 9, and print its value if it is greater than 5\n",
    "\n",
    "from random import randrange\n",
    "r = randrange(10)\n",
    "\n",
    "if r > 5: print(r) # when the condition (r > 5) is valid/true, the code (print(r)) will be executed\n",
    "# you may need to execute your code more than once to see an outcome"
   ]
  },
  {
   "cell_type": "code",
   "execution_count": 13,
   "metadata": {},
   "outputs": [
    {
     "name": "stdout",
     "output_type": "stream",
     "text": [
      "i = 3 r = 7\n"
     ]
    }
   ],
   "source": [
    "# repeat the same task four times, and also print the value of iteration variable (i) \n",
    "\n",
    "for i in range(4):\n",
    "    r = randrange(10) # this code belongs to for-loop, and so it is indented\n",
    "    if r > 5: # this code also belongs to for-loop, and so it is indented as well\n",
    "        print(\"i =\",i,\"r =\",r) # this code belongs to if-statement, and so it is indented with respect to if-statement\n",
    "\n",
    "# if you are unlucky (with probabability less than 13/100), you may not see any outcome after a single run"
   ]
  }
 ],
 "metadata": {
  "kernelspec": {
   "display_name": "Python 3",
   "language": "python",
   "name": "python3"
  },
  "language_info": {
   "codemirror_mode": {
    "name": "ipython",
    "version": 3
   },
   "file_extension": ".py",
   "mimetype": "text/x-python",
   "name": "python",
   "nbconvert_exporter": "python",
   "pygments_lexer": "ipython3",
   "version": "3.7.6"
  }
 },
 "nbformat": 4,
 "nbformat_minor": 4
}

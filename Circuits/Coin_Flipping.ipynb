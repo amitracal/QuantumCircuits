{
 "cells": [
  {
   "cell_type": "code",
   "execution_count": 1,
   "metadata": {},
   "outputs": [
    {
     "name": "stdout",
     "output_type": "stream",
     "text": [
      "experiment: 100\n",
      "the ratio of #heads/#tails is 1.3255813953488371 heads = 57 tails =  43\n",
      "\n",
      "experiment: 1000\n",
      "the ratio of #heads/#tails is 1.0449897750511248 heads = 511 tails =  489\n",
      "\n",
      "experiment: 10000\n",
      "the ratio of #heads/#tails is 1.0076289901626179 heads = 5019 tails =  4981\n",
      "\n",
      "experiment: 100000\n",
      "the ratio of #heads/#tails is 1.0048115477145148 heads = 50120 tails =  49880\n",
      "\n"
     ]
    }
   ],
   "source": [
    "from random import randrange\n",
    "\n",
    "for experiment in [100,1000,10000,100000]:\n",
    "    heads = tails = 0\n",
    "    for i in range(experiment):\n",
    "        if randrange(2) == 0: heads = heads + 1\n",
    "        else: tails = tails + 1\n",
    "    print(\"experiment:\",experiment)\n",
    "    print(\"the ratio of #heads/#tails is\",(heads/tails),\"heads =\",heads,\"tails = \",tails)\n",
    "    print() # empty line"
   ]
  },
  {
   "cell_type": "code",
   "execution_count": 2,
   "metadata": {},
   "outputs": [
    {
     "name": "stdout",
     "output_type": "stream",
     "text": [
      "experiment: 100\n",
      "the ratio of #heads/#tails is 1.9411764705882353 heads = 66 tails =  34\n",
      "\n",
      "experiment: 1000\n",
      "the ratio of #heads/#tails is 1.4096385542168675 heads = 585 tails =  415\n",
      "\n",
      "experiment: 10000\n",
      "the ratio of #heads/#tails is 1.529724260055654 heads = 6047 tails =  3953\n",
      "\n",
      "experiment: 100000\n",
      "the ratio of #heads/#tails is 1.4899778391972311 heads = 59839 tails =  40161\n",
      "\n"
     ]
    }
   ],
   "source": [
    "from random import randrange\n",
    "\n",
    "# let's pick a random number between {0,1,...,99}\n",
    "# it is expected to be less than 60 with probability 0.6\n",
    "#     and greater than or equal to 60 with probability 0.4\n",
    "\n",
    "for experiment in [100,1000,10000,100000]:\n",
    "    heads = tails = 0\n",
    "    for i in range(experiment):\n",
    "        if randrange(100) <60: heads = heads + 1 # with probability 0.6\n",
    "        else: tails = tails + 1 # with probability 0.4\n",
    "    print(\"experiment:\",experiment)        \n",
    "    print(\"the ratio of #heads/#tails is\",(heads/tails),\"heads =\",heads,\"tails = \",tails)\n",
    "    print() # empty line"
   ]
  },
  {
   "cell_type": "code",
   "execution_count": 5,
   "metadata": {},
   "outputs": [],
   "source": [
    "def biased_coin(N,B):\n",
    "    from random import randrange\n",
    "    random_number = randrange(N)\n",
    "    if random_number < B:\n",
    "        return \"Head\"\n",
    "    else:\n",
    "        return \"Tail\""
   ]
  },
  {
   "cell_type": "code",
   "execution_count": 6,
   "metadata": {},
   "outputs": [],
   "source": [
    "from random import randrange\n",
    "N = 101\n",
    "B = randrange(100)"
   ]
  },
  {
   "cell_type": "code",
   "execution_count": 13,
   "metadata": {},
   "outputs": [
    {
     "name": "stdout",
     "output_type": "stream",
     "text": [
      "my guess is 0.248\n",
      "real bias is 0.2079207920792079\n",
      "error (%) is 19.27619047619048\n"
     ]
    }
   ],
   "source": [
    "total_tosses = 500\n",
    "the_number_of_heads = 0\n",
    "for i in range(total_tosses):\n",
    "    if biased_coin(N,B) == \"Head\":\n",
    "        the_number_of_heads = the_number_of_heads + 1\n",
    "\n",
    "my_guess =  the_number_of_heads/total_tosses        \n",
    "real_bias = B/N\n",
    "error = abs(my_guess-real_bias)/real_bias*100 \n",
    "\n",
    "print(\"my guess is\",my_guess)\n",
    "print(\"real bias is\",real_bias)\n",
    "print(\"error (%) is\",error)"
   ]
  }
 ],
 "metadata": {
  "kernelspec": {
   "display_name": "Python 3",
   "language": "python",
   "name": "python3"
  },
  "language_info": {
   "codemirror_mode": {
    "name": "ipython",
    "version": 3
   },
   "file_extension": ".py",
   "mimetype": "text/x-python",
   "name": "python",
   "nbconvert_exporter": "python",
   "pygments_lexer": "ipython3",
   "version": "3.7.6"
  }
 },
 "nbformat": 4,
 "nbformat_minor": 4
}
